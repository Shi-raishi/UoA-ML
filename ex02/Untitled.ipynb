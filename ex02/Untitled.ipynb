{
 "cells": [
  {
   "cell_type": "code",
   "execution_count": 11,
   "id": "7052ee96",
   "metadata": {},
   "outputs": [],
   "source": [
    "from sklearn import datasetsdD\n",
    "from sklearn import svmD"
   ]
  },
  {
   "cell_type": "code",
   "execution_count": 12,
   "id": "8dde442a",
   "metadata": {},
   "outputs": [],
   "source": [
    "def train_and_test(X, y, n_neighbors_list, random_state):\n",
    " \n",
    "    X_train, X_test, y_train, y_test =\\\n",
    "        train_test_split(X, y, stratify=y, random_state=random_state)\n",
    " \n",
    "    training_scores = []\n",
    "    test_scores = []\n",
    " \n",
    "    for n_neighbors in n_neighbors_list:\n",
    "        classifier = KNeighborsClassifier(n_neighbors=n_neighbors)\n",
    " \n",
    "        classifier.fit(X_train, y_train)\n",
    " \n",
    "        training_scores.append(classifier.score(X_train, y_train))\n",
    "        test_scores.append(classifier.score(X_test, y_test))\n",
    " \n",
    "    return training_scores, test_scores"
   ]
  },
  {
   "cell_type": "code",
   "execution_count": 13,
   "id": "f0b0d0ff",
   "metadata": {},
   "outputs": [],
   "source": [
    "iris_ds = load_iris()\n",
    "X = iris_ds.data\n",
    "y = iris_ds.target"
   ]
  },
  {
   "cell_type": "code",
   "execution_count": 14,
   "id": "713c9027",
   "metadata": {},
   "outputs": [],
   "source": [
    "n_neighbors_list = np.arange(1, 16, dtype=int)\n",
    "random_state_list = np.array([0, 1, 2, 3])"
   ]
  },
  {
   "cell_type": "code",
   "execution_count": 15,
   "id": "d9868675",
   "metadata": {},
   "outputs": [
    {
     "data": {
      "image/png": "[encoded data removed]",
      "text/plain": [
       "<Figure size 691.2x518.4 with 4 Axes>"
      ]
     },
     "metadata": {
      "needs_background": "light"
     },
     "output_type": "display_data"
    }
   ],
   "source": [
    "fig, axs = plt.subplots(2, 2, figsize=(9.6, 7.2))\n",
    "plt.subplots_adjust(hspace=0.4)"
   ]
  },
  {
   "cell_type": "code",
   "execution_count": 16,
   "id": "3f11f744",
   "metadata": {},
   "outputs": [],
   "source": [
    "axs_1d = axs.reshape(1, -1)[0]"
   ]
  },
  {
   "cell_type": "code",
   "execution_count": 17,
   "id": "e72ab87f",
   "metadata": {},
   "outputs": [],
   "source": [
    "### random_stateを変化させて学習率の違いを見る ###"
   ]
  },
  {
   "cell_type": "code",
   "execution_count": 18,
   "id": "04aacff3",
   "metadata": {},
   "outputs": [],
   "source": [
    "for ax, random_state in zip(axs_1d, random_state_list):\n",
    "    training_scores, test_scores =\\\n",
    "        train_and_test(X, y, n_neighbors_list, random_state)\n",
    " \n",
    "    ax.plot(n_neighbors_list, training_scores)\n",
    "    ax.plot(n_neighbors_list, test_scores)\n",
    " \n",
    "    ax.set_title(\"random_state={}\".format(random_state))\n",
    "    ax.set_xlabel(\"number of neighbors\")\n",
    "    ax.set_ylim(0.9, 1.01)"
   ]
  },
  {
   "cell_type": "code",
   "execution_count": 19,
   "id": "b7a3b698",
   "metadata": {},
   "outputs": [],
   "source": [
    "plt.show()"
   ]
  },
  {
   "cell_type": "code",
   "execution_count": null,
   "id": "48f84eb4",
   "metadata": {},
   "outputs": [],
   "source": []
  }
 ],
 "metadata": {
  "kernelspec": {
   "display_name": "Python 3",
   "language": "python",
   "name": "python3"
  },
  "language_info": {
   "codemirror_mode": {
    "name": "ipython",
    "version": 3
   },
   "file_extension": ".py",
   "mimetype": "text/x-python",
   "name": "python",
   "nbconvert_exporter": "python",
   "pygments_lexer": "ipython3",
   "version": "3.7.11"
  }
 },
 "nbformat": 4,
 "nbformat_minor": 5
}
