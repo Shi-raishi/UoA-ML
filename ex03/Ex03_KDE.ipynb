{
 "cells": [
  {
   "cell_type": "markdown",
   "metadata": {},
   "source": [
    "# Ex03 Gaussian Kernel-based probability density estimation method"
   ]
  },
  {
   "cell_type": "markdown",
   "metadata": {},
   "source": [
    "### Outline\n",
    "- Data import\n",
    "- Data split\n",
    "- Normalization\n",
    "- Kernel density estimation\n",
    "- Probability density of test data\n",
    "- Prediction label\n",
    "- Score\n",
    "- Summary of KDE and KNN"
   ]
  },
  {
   "cell_type": "markdown",
   "metadata": {},
   "source": [
    "#### Data import"
   ]
  },
  {
   "cell_type": "code",
   "execution_count": 5,
   "metadata": {},
   "outputs": [],
   "source": [
    "from sklearn import datasets\n",
    "from sklearn.model_selection import train_test_split\n",
    "from sklearn.preprocessing import StandardScaler\n",
    "from scipy.stats import gaussian_kde\n",
    "\n",
    "iris = datasets.load_iris()\n",
    "X = iris.data\n",
    "y = iris.target"
   ]
  },
  {
   "cell_type": "markdown",
   "metadata": {},
   "source": [
    "#### Data split"
   ]
  },
  {
   "cell_type": "code",
   "execution_count": 6,
   "metadata": {},
   "outputs": [],
   "source": [
    "X_train, X_test, y_train, y_test = train_test_split(X, y, test_size=0.3,\n",
    "random_state=1, stratify=y)"
   ]
  },
  {
   "cell_type": "markdown",
   "metadata": {},
   "source": [
    "#### Normalization"
   ]
  },
  {
   "cell_type": "code",
   "execution_count": 7,
   "metadata": {},
   "outputs": [],
   "source": [
    "sc = StandardScaler()\n",
    "sc = sc.fit(X_train)\n",
    "X_train_std = sc.transform(X_train)\n",
    "X_test_std = sc.transform(X_test)"
   ]
  },
  {
   "cell_type": "markdown",
   "metadata": {},
   "source": [
    "#### Kernel density estimation"
   ]
  },
  {
   "cell_type": "code",
   "execution_count": 8,
   "metadata": {},
   "outputs": [],
   "source": [
    "kernel0 = gaussian_kde(X_train_std[y_train==0].T)\n",
    "kernel1 = gaussian_kde(X_train_std[y_train==1].T)\n",
    "kernel2 = gaussian_kde(X_train_std[y_train==2].T)"
   ]
  },
  {
   "cell_type": "markdown",
   "metadata": {},
   "source": [
    "#### Probability density of test data"
   ]
  },
  {
   "cell_type": "code",
   "execution_count": 9,
   "metadata": {},
   "outputs": [],
   "source": [
    "p0s = kernel0.evaluate(X_test_std.T)\n",
    "p1s = kernel1.evaluate(X_test_std.T)\n",
    "p2s = kernel2.evaluate(X_test_std.T)"
   ]
  },
  {
   "cell_type": "markdown",
   "metadata": {},
   "source": [
    "#### Prediction label"
   ]
  },
  {
   "cell_type": "code",
   "execution_count": 10,
   "metadata": {},
   "outputs": [],
   "source": [
    "y_pred = []\n",
    "for p0, p1, p2 in zip(p0s, p1s, p2s):\n",
    "    if max(p0, p1, p2) == p0:\n",
    "        y_pred.append(0)\n",
    "    elif max(p0, p1, p2) == p1:\n",
    "        y_pred.append(1)\n",
    "    else:\n",
    "        y_pred.append(2)"
   ]
  },
  {
   "cell_type": "markdown",
   "metadata": {},
   "source": [
    "#### Score"
   ]
  },
  {
   "cell_type": "code",
   "execution_count": 11,
   "metadata": {},
   "outputs": [
    {
     "name": "stdout",
     "output_type": "stream",
     "text": [
      "1.0\n"
     ]
    }
   ],
   "source": [
    "from sklearn.metrics import accuracy_score\n",
    "print(accuracy_score(y_test, y_pred))"
   ]
  },
  {
   "cell_type": "markdown",
   "metadata": {},
   "source": [
    "#### Summary of KDE and KNN\n",
    " The results of kernel density estimation are used as a supervised learning classifier.\n",
    " In reality, such methods are not used very often.\n",
    " I think it has the disadvantage of being computationally expensive and the accuracy can be significantly degraded depending on the data.\n",
    " However, as you can see from this trial, it seems to be able to classify some data rather quickly and in a good way.\n",
    " As a result, kernel density estimation was able to achieve higher accuracy than KNN. However, it is difficult to say which is more 　advantageous depending on the type of data; for the Iris data set, kernel density estimation was found to be better."
   ]
  }
 ],
 "metadata": {
  "kernelspec": {
   "display_name": "Python 3",
   "language": "python",
   "name": "python3"
  },
  "language_info": {
   "codemirror_mode": {
    "name": "ipython",
    "version": 3
   },
   "file_extension": ".py",
   "mimetype": "text/x-python",
   "name": "python",
   "nbconvert_exporter": "python",
   "pygments_lexer": "ipython3",
   "version": "3.7.9"
  }
 },
 "nbformat": 4,
 "nbformat_minor": 4
}
